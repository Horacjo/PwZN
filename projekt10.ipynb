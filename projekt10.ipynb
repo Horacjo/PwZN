{
 "cells": [
  {
   "cell_type": "code",
   "execution_count": 64,
   "metadata": {},
   "outputs": [],
   "source": [
    "import pandas as pd\n",
    "import numpy as np\n",
    "\n",
    "from bokeh.plotting import figure, show\n",
    "from bokeh.models import ColumnDataSource"
   ]
  },
  {
   "cell_type": "code",
   "execution_count": 65,
   "metadata": {},
   "outputs": [],
   "source": [
    "data = pd.read_csv('global-food.csv')"
   ]
  },
  {
   "cell_type": "code",
   "execution_count": 66,
   "metadata": {},
   "outputs": [],
   "source": [
    "data_agr = data.fillna(0).groupby('Year').agg(world_production = ('Production (t)',np.max))\n",
    "\n",
    "data_usa = data.loc[data['Country'] == 'United States'].groupby('Year').agg(production = ('Production (t)', np.max))\n",
    "data_bra = data.loc[data['Country'] == 'Brazil'].groupby('Year').agg(production = ('Production (t)', np.max))\n",
    "data_ger = data.loc[data['Country'] == 'Germany'].groupby('Year').agg(production = ('Production (t)', np.max))\n",
    "data_mex = data.loc[data['Country'] == 'Mexico'].groupby('Year').agg(production = ('Production (t)', np.max))\n",
    "\n",
    "data_agr['USA'] = data_usa['production']\n",
    "data_agr['Brazil'] = data_bra['production']\n",
    "data_agr['Germany'] = data_ger['production']\n",
    "data_agr['Mexico'] = data_mex['production']\n",
    "\n",
    "#data_agr"
   ]
  },
  {
   "cell_type": "code",
   "execution_count": 67,
   "metadata": {},
   "outputs": [
    {
     "name": "stderr",
     "output_type": "stream",
     "text": [
      "BokehDeprecationWarning: 'legend' keyword is deprecated, use explicit 'legend_label', 'legend_field', or 'legend_group' keywords instead\n",
      "BokehDeprecationWarning: 'legend' keyword is deprecated, use explicit 'legend_label', 'legend_field', or 'legend_group' keywords instead\n",
      "BokehDeprecationWarning: 'legend' keyword is deprecated, use explicit 'legend_label', 'legend_field', or 'legend_group' keywords instead\n",
      "BokehDeprecationWarning: 'legend' keyword is deprecated, use explicit 'legend_label', 'legend_field', or 'legend_group' keywords instead\n"
     ]
    }
   ],
   "source": [
    "source = ColumnDataSource(data = data_agr)\n",
    "\n",
    "plot = figure(x_axis_type='datetime')\n",
    "plot.line(x='Year', y='USA', source=source, line_width=2,\n",
    "          color='#440154', legend = 'Usa')\n",
    "plot.line(x='Year', y='Brazil', source=source, line_width=2,\n",
    "          color= '#30678D', legend = 'Brazylia')\n",
    "plot.line(x='Year', y='Germany', source=source, line_width=2,\n",
    "          color='#35B778', legend = 'Niemcy')\n",
    "plot.line(x='Year', y='Mexico', source=source, line_width=2,\n",
    "          color='#FDE724', legend = 'Meksyk')\n",
    "\n",
    "\n",
    "show(plot)"
   ]
  }
 ],
 "metadata": {
  "interpreter": {
   "hash": "fe44fef87f92f48a3a32707d0df204585f471652bc0ce87358a3ce712bc24db0"
  },
  "kernelspec": {
   "display_name": "Python 3.9.7 64-bit",
   "language": "python",
   "name": "python3"
  },
  "language_info": {
   "codemirror_mode": {
    "name": "ipython",
    "version": 3
   },
   "file_extension": ".py",
   "mimetype": "text/x-python",
   "name": "python",
   "nbconvert_exporter": "python",
   "pygments_lexer": "ipython3",
   "version": "3.9.7"
  },
  "orig_nbformat": 4
 },
 "nbformat": 4,
 "nbformat_minor": 2
}
